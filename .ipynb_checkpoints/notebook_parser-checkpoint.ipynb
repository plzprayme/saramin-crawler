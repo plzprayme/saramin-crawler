{
 "cells": [
  {
   "cell_type": "code",
   "execution_count": 5,
   "metadata": {},
   "outputs": [
    {
     "name": "stdout",
     "output_type": "stream",
     "text": [
      "C:\\Users\\prayme\\workspace\\selenium\n",
      "['.git', '.ipynb_checkpoints', 'debug.log', 'parser.ipynb', 'parser.py', 'README.md']\n"
     ]
    }
   ],
   "source": [
    "from os import getcwd, listdir\n",
    "print(getcwd())\n",
    "print(listdir())"
   ]
  },
  {
   "cell_type": "code",
   "execution_count": 18,
   "metadata": {},
   "outputs": [
    {
     "name": "stdout",
     "output_type": "stream",
     "text": [
      "BEFORE 50\n",
      "UNFILTERED CAREER ROW ~ 09/16(수)\n",
      "(11분 전 등록)\n",
      "FILTERED DEADLINE ROW ~ 09/20(일)\n",
      "(18일 전 등록)\n",
      "UNFILTERED CAREER ROW 채용시\n",
      "(45분 전 등록)\n",
      "UNFILTERED CAREER ROW ~ 09/16(수)\n",
      "(5일 전 등록)\n",
      "FILTERED DEADLINE ROW ~ 11/08(일)\n",
      "(58분 전 등록)\n",
      "UNFILTERED CAREER ROW ~ 09/13(일)\n",
      "(1시간 전 등록)\n",
      "FILTERED DEADLINE ROW ~ 09/25(금)\n",
      "(12일 전 등록)\n",
      "FILTERED DEADLINE ROW ~ 10/09(금)\n",
      "(1시간 전 등록)\n",
      "UNFILTERED CAREER ROW ~ 09/11(금)\n",
      "(2일 전 등록)\n",
      "FILTERED DEADLINE ROW ~ 09/20(일)\n",
      "(1일 전 등록)\n",
      "UNFILTERED CAREER ROW ~ 09/11(금)\n",
      "(26일 전 등록)\n",
      "FILTERED DEADLINE ROW ~ 09/20(일)\n",
      "(5일 전 등록)\n",
      "FILTERED DEADLINE ROW ~ 10/10(토)\n",
      "(13일 전 등록)\n",
      "UNFILTERED CAREER ROW ~ 09/11(금)\n",
      "(12일 전 등록)\n",
      "FILTERED DEADLINE ROW ~ 09/30(수)\n",
      "(21일 전 등록)\n",
      "UNFILTERED CAREER ROW 내일마감\n",
      "(8일 전 등록)\n",
      "FILTERED DEADLINE ROW ~ 09/30(수)\n",
      "(13일 전 등록)\n",
      "FILTERED DEADLINE ROW ~ 10/05(월)\n",
      "(1일 전 등록)\n",
      "FILTERED DEADLINE ROW ~ 09/20(일)\n",
      "(5일 전 등록)\n",
      "UNFILTERED CAREER ROW ~ 09/15(화)\n",
      "(5일 전 등록)\n",
      "UNFILTERED CAREER ROW ~ 09/18(금)\n",
      "(22일 전 등록)\n",
      "UNFILTERED CAREER ROW ~ 09/13(일)\n",
      "(5일 전 등록)\n",
      "FILTERED DEADLINE ROW ~ 09/20(일)\n",
      "(4시간 전 등록)\n",
      "FILTERED DEADLINE ROW ~ 09/27(일)\n",
      "(41일 전 등록)\n",
      "FILTERED DEADLINE ROW ~ 11/08(일)\n",
      "(4시간 전 등록)\n",
      "UNFILTERED CAREER ROW 채용시\n",
      "(1일 전 등록)\n",
      "FILTERED DEADLINE ROW ~ 11/07(토)\n",
      "(1일 전 등록)\n",
      "FILTERED DEADLINE ROW ~ 11/06(금)\n",
      "(1일 전 등록)\n",
      "UNFILTERED CAREER ROW ~ 09/14(월)\n",
      "(54일 전 등록)\n",
      "FILTERED DEADLINE ROW ~ 09/26(토)\n",
      "(12일 전 등록)\n",
      "UNFILTERED CAREER ROW ~ 09/18(금)\n",
      "(20일 전 등록)\n",
      "FILTERED DEADLINE ROW ~ 11/07(토)\n",
      "(20시간 전 등록)\n",
      "FILTERED DEADLINE ROW ~ 09/30(수)\n",
      "(22시간 전 등록)\n",
      "UNFILTERED CAREER ROW 채용시\n",
      "(22시간 전 등록)\n",
      "UNFILTERED CAREER ROW ~ 09/14(월)\n",
      "(14일 전 등록)\n",
      "FILTERED DEADLINE ROW ~ 11/07(토)\n",
      "(22시간 전 등록)\n",
      "UNFILTERED CAREER ROW 상시채용\n",
      "(1일 전 등록)\n",
      "FILTERED DEADLINE ROW ~ 11/06(금)\n",
      "(1일 전 등록)\n",
      "FILTERED DEADLINE ROW ~ 10/27(화)\n",
      "(12일 전 등록)\n",
      "FILTERED DEADLINE ROW ~ 10/27(화)\n",
      "(12일 전 등록)\n",
      "FILTERED DEADLINE ROW ~ 10/08(목)\n",
      "(1일 전 등록)\n",
      "FILTERED DEADLINE ROW ~ 10/04(일)\n",
      "(8일 전 등록)\n",
      "FILTERED DEADLINE ROW ~ 10/04(일)\n",
      "(8일 전 등록)\n",
      "FILTERED DEADLINE ROW ~ 10/30(금)\n",
      "(9일 전 등록)\n",
      "FILTERED DEADLINE ROW ~ 11/07(토)\n",
      "(1일 전 등록)\n",
      "FILTERED DEADLINE ROW ~ 11/07(토)\n",
      "(1일 전 등록)\n",
      "UNFILTERED CAREER ROW ~ 09/13(일)\n",
      "(56일 전 등록)\n",
      "FILTERED DEADLINE ROW ~ 11/07(토)\n",
      "(1일 전 등록)\n",
      "FILTERED DEADLINE ROW ~ 09/30(수)\n",
      "(1일 전 등록)\n",
      "FILTERED DEADLINE ROW ~ 10/31(토)\n",
      "(8일 전 등록)\n",
      "AFTER 32\n",
      "ROW <selenium.webdriver.remote.webelement.WebElement (session=\"4f02111b01c962670d8cd2409cf5fde7\", element=\"0838fa47-4630-44a1-8b16-30cc87ee858c\")>\n",
      "COMPANY NAME (주)매그파이소프트\n",
      "JOB SECTOR 웹개발응용프로그램개발 외\n",
      "URL http://www.saramin.co.kr/zf_user/jobs/relay/view?view_type=list&rec_idx=38655001\n",
      "WORK LOCATION (34955) 대전 중구 계룡로 910,  7층(문화동)\n",
      "RESUME SUBMISSION FORMAT \n",
      "                            사람인 이력서 양식                                                            제출서류 보기제출서류1. 입사지원서 : 사진삽입, 연락처, 해당업무 근수년수, 희망연봉 필히 게재\n",
      "- 사람인 양식 제출\n",
      "2. 경력기술서(경력대상자)\n",
      "- 경력 : 프로젝트 담당업무 상세 기술 요망\n",
      "3. 자기소개서 \n",
      "- 사람인 양식 제출닫기\n",
      "DEADLINE 2020.09.20\n",
      "BENEFIT 복리후생지원금/보험\n",
      "                                각종 경조사 지원                            급여제도\n",
      "                                퇴직연금, 인센티브제, 장기근속자 포상, 우수사원포상, 퇴직금, 4대 보험                            선물\n",
      "                                명절선물/귀향비                            교육/생활\n",
      "                                우수사원시상식, 워크샵, 도서구입비지원, 자격증취득지원, 교육비 지원, 저녁식사...                            근무 환경\n",
      "                                회의실, 노트북, 사무용품 지급                            조직문화\n",
      "                                회식강요 안함, 야근강요 안함, 자유복장                            리프레시\n",
      "                                연차, 경조휴가제, 반차, Refresh휴가, 근로자의 날 휴무, 포상휴가                            내용 전체보기\n",
      "ROW <selenium.webdriver.remote.webelement.WebElement (session=\"4f02111b01c962670d8cd2409cf5fde7\", element=\"6a64adbd-21cf-49ec-8394-41a7dc323e27\")>\n"
     ]
    },
    {
     "ename": "StaleElementReferenceException",
     "evalue": "Message: stale element reference: element is not attached to the page document\n  (Session info: chrome=85.0.4183.83)\n",
     "output_type": "error",
     "traceback": [
      "\u001b[1;31m---------------------------------------------------------------------------\u001b[0m",
      "\u001b[1;31mStaleElementReferenceException\u001b[0m            Traceback (most recent call last)",
      "\u001b[1;32m~\\workspace\\selenium\\parser.py\u001b[0m in \u001b[0;36m<module>\u001b[1;34m\u001b[0m\n\u001b[0;32m     84\u001b[0m \u001b[1;33m\u001b[0m\u001b[0m\n\u001b[0;32m     85\u001b[0m         \u001b[1;31m# 각 아이템의 회사 이름 가져오기\u001b[0m\u001b[1;33m\u001b[0m\u001b[1;33m\u001b[0m\u001b[1;33m\u001b[0m\u001b[0m\n\u001b[1;32m---> 86\u001b[1;33m         \u001b[0mprint\u001b[0m\u001b[1;33m(\u001b[0m\u001b[1;34m\"COMPANY NAME\"\u001b[0m\u001b[1;33m,\u001b[0m \u001b[0mrow\u001b[0m\u001b[1;33m.\u001b[0m\u001b[0mfind_element_by_css_selector\u001b[0m\u001b[1;33m(\u001b[0m\u001b[1;34m'.str_tit'\u001b[0m\u001b[1;33m)\u001b[0m\u001b[1;33m.\u001b[0m\u001b[0mtext\u001b[0m\u001b[1;33m)\u001b[0m\u001b[1;33m\u001b[0m\u001b[1;33m\u001b[0m\u001b[0m\n\u001b[0m\u001b[0;32m     87\u001b[0m \u001b[1;33m\u001b[0m\u001b[0m\n\u001b[0;32m     88\u001b[0m         \u001b[1;31m# 각 아이템의 모집 집종 가져오기\u001b[0m\u001b[1;33m\u001b[0m\u001b[1;33m\u001b[0m\u001b[1;33m\u001b[0m\u001b[0m\n",
      "\u001b[1;32m~\\Anaconda3\\envs\\selenium\\lib\\site-packages\\selenium\\webdriver\\remote\\webelement.py\u001b[0m in \u001b[0;36mfind_element_by_css_selector\u001b[1;34m(self, css_selector)\u001b[0m\n\u001b[0;32m    428\u001b[0m             \u001b[0melement\u001b[0m \u001b[1;33m=\u001b[0m \u001b[0melement\u001b[0m\u001b[1;33m.\u001b[0m\u001b[0mfind_element_by_css_selector\u001b[0m\u001b[1;33m(\u001b[0m\u001b[1;34m'#foo'\u001b[0m\u001b[1;33m)\u001b[0m\u001b[1;33m\u001b[0m\u001b[1;33m\u001b[0m\u001b[0m\n\u001b[0;32m    429\u001b[0m         \"\"\"\n\u001b[1;32m--> 430\u001b[1;33m         \u001b[1;32mreturn\u001b[0m \u001b[0mself\u001b[0m\u001b[1;33m.\u001b[0m\u001b[0mfind_element\u001b[0m\u001b[1;33m(\u001b[0m\u001b[0mby\u001b[0m\u001b[1;33m=\u001b[0m\u001b[0mBy\u001b[0m\u001b[1;33m.\u001b[0m\u001b[0mCSS_SELECTOR\u001b[0m\u001b[1;33m,\u001b[0m \u001b[0mvalue\u001b[0m\u001b[1;33m=\u001b[0m\u001b[0mcss_selector\u001b[0m\u001b[1;33m)\u001b[0m\u001b[1;33m\u001b[0m\u001b[1;33m\u001b[0m\u001b[0m\n\u001b[0m\u001b[0;32m    431\u001b[0m \u001b[1;33m\u001b[0m\u001b[0m\n\u001b[0;32m    432\u001b[0m     \u001b[1;32mdef\u001b[0m \u001b[0mfind_elements_by_css_selector\u001b[0m\u001b[1;33m(\u001b[0m\u001b[0mself\u001b[0m\u001b[1;33m,\u001b[0m \u001b[0mcss_selector\u001b[0m\u001b[1;33m)\u001b[0m\u001b[1;33m:\u001b[0m\u001b[1;33m\u001b[0m\u001b[1;33m\u001b[0m\u001b[0m\n",
      "\u001b[1;32m~\\Anaconda3\\envs\\selenium\\lib\\site-packages\\selenium\\webdriver\\remote\\webelement.py\u001b[0m in \u001b[0;36mfind_element\u001b[1;34m(self, by, value)\u001b[0m\n\u001b[0;32m    656\u001b[0m                 \u001b[0mvalue\u001b[0m \u001b[1;33m=\u001b[0m \u001b[1;34m'[name=\"%s\"]'\u001b[0m \u001b[1;33m%\u001b[0m \u001b[0mvalue\u001b[0m\u001b[1;33m\u001b[0m\u001b[1;33m\u001b[0m\u001b[0m\n\u001b[0;32m    657\u001b[0m \u001b[1;33m\u001b[0m\u001b[0m\n\u001b[1;32m--> 658\u001b[1;33m         return self._execute(Command.FIND_CHILD_ELEMENT,\n\u001b[0m\u001b[0;32m    659\u001b[0m                              {\"using\": by, \"value\": value})['value']\n\u001b[0;32m    660\u001b[0m \u001b[1;33m\u001b[0m\u001b[0m\n",
      "\u001b[1;32m~\\Anaconda3\\envs\\selenium\\lib\\site-packages\\selenium\\webdriver\\remote\\webelement.py\u001b[0m in \u001b[0;36m_execute\u001b[1;34m(self, command, params)\u001b[0m\n\u001b[0;32m    631\u001b[0m             \u001b[0mparams\u001b[0m \u001b[1;33m=\u001b[0m \u001b[1;33m{\u001b[0m\u001b[1;33m}\u001b[0m\u001b[1;33m\u001b[0m\u001b[1;33m\u001b[0m\u001b[0m\n\u001b[0;32m    632\u001b[0m         \u001b[0mparams\u001b[0m\u001b[1;33m[\u001b[0m\u001b[1;34m'id'\u001b[0m\u001b[1;33m]\u001b[0m \u001b[1;33m=\u001b[0m \u001b[0mself\u001b[0m\u001b[1;33m.\u001b[0m\u001b[0m_id\u001b[0m\u001b[1;33m\u001b[0m\u001b[1;33m\u001b[0m\u001b[0m\n\u001b[1;32m--> 633\u001b[1;33m         \u001b[1;32mreturn\u001b[0m \u001b[0mself\u001b[0m\u001b[1;33m.\u001b[0m\u001b[0m_parent\u001b[0m\u001b[1;33m.\u001b[0m\u001b[0mexecute\u001b[0m\u001b[1;33m(\u001b[0m\u001b[0mcommand\u001b[0m\u001b[1;33m,\u001b[0m \u001b[0mparams\u001b[0m\u001b[1;33m)\u001b[0m\u001b[1;33m\u001b[0m\u001b[1;33m\u001b[0m\u001b[0m\n\u001b[0m\u001b[0;32m    634\u001b[0m \u001b[1;33m\u001b[0m\u001b[0m\n\u001b[0;32m    635\u001b[0m     \u001b[1;32mdef\u001b[0m \u001b[0mfind_element\u001b[0m\u001b[1;33m(\u001b[0m\u001b[0mself\u001b[0m\u001b[1;33m,\u001b[0m \u001b[0mby\u001b[0m\u001b[1;33m=\u001b[0m\u001b[0mBy\u001b[0m\u001b[1;33m.\u001b[0m\u001b[0mID\u001b[0m\u001b[1;33m,\u001b[0m \u001b[0mvalue\u001b[0m\u001b[1;33m=\u001b[0m\u001b[1;32mNone\u001b[0m\u001b[1;33m)\u001b[0m\u001b[1;33m:\u001b[0m\u001b[1;33m\u001b[0m\u001b[1;33m\u001b[0m\u001b[0m\n",
      "\u001b[1;32m~\\Anaconda3\\envs\\selenium\\lib\\site-packages\\selenium\\webdriver\\remote\\webdriver.py\u001b[0m in \u001b[0;36mexecute\u001b[1;34m(self, driver_command, params)\u001b[0m\n\u001b[0;32m    319\u001b[0m         \u001b[0mresponse\u001b[0m \u001b[1;33m=\u001b[0m \u001b[0mself\u001b[0m\u001b[1;33m.\u001b[0m\u001b[0mcommand_executor\u001b[0m\u001b[1;33m.\u001b[0m\u001b[0mexecute\u001b[0m\u001b[1;33m(\u001b[0m\u001b[0mdriver_command\u001b[0m\u001b[1;33m,\u001b[0m \u001b[0mparams\u001b[0m\u001b[1;33m)\u001b[0m\u001b[1;33m\u001b[0m\u001b[1;33m\u001b[0m\u001b[0m\n\u001b[0;32m    320\u001b[0m         \u001b[1;32mif\u001b[0m \u001b[0mresponse\u001b[0m\u001b[1;33m:\u001b[0m\u001b[1;33m\u001b[0m\u001b[1;33m\u001b[0m\u001b[0m\n\u001b[1;32m--> 321\u001b[1;33m             \u001b[0mself\u001b[0m\u001b[1;33m.\u001b[0m\u001b[0merror_handler\u001b[0m\u001b[1;33m.\u001b[0m\u001b[0mcheck_response\u001b[0m\u001b[1;33m(\u001b[0m\u001b[0mresponse\u001b[0m\u001b[1;33m)\u001b[0m\u001b[1;33m\u001b[0m\u001b[1;33m\u001b[0m\u001b[0m\n\u001b[0m\u001b[0;32m    322\u001b[0m             response['value'] = self._unwrap_value(\n\u001b[0;32m    323\u001b[0m                 response.get('value', None))\n",
      "\u001b[1;32m~\\Anaconda3\\envs\\selenium\\lib\\site-packages\\selenium\\webdriver\\remote\\errorhandler.py\u001b[0m in \u001b[0;36mcheck_response\u001b[1;34m(self, response)\u001b[0m\n\u001b[0;32m    240\u001b[0m                 \u001b[0malert_text\u001b[0m \u001b[1;33m=\u001b[0m \u001b[0mvalue\u001b[0m\u001b[1;33m[\u001b[0m\u001b[1;34m'alert'\u001b[0m\u001b[1;33m]\u001b[0m\u001b[1;33m.\u001b[0m\u001b[0mget\u001b[0m\u001b[1;33m(\u001b[0m\u001b[1;34m'text'\u001b[0m\u001b[1;33m)\u001b[0m\u001b[1;33m\u001b[0m\u001b[1;33m\u001b[0m\u001b[0m\n\u001b[0;32m    241\u001b[0m             \u001b[1;32mraise\u001b[0m \u001b[0mexception_class\u001b[0m\u001b[1;33m(\u001b[0m\u001b[0mmessage\u001b[0m\u001b[1;33m,\u001b[0m \u001b[0mscreen\u001b[0m\u001b[1;33m,\u001b[0m \u001b[0mstacktrace\u001b[0m\u001b[1;33m,\u001b[0m \u001b[0malert_text\u001b[0m\u001b[1;33m)\u001b[0m\u001b[1;33m\u001b[0m\u001b[1;33m\u001b[0m\u001b[0m\n\u001b[1;32m--> 242\u001b[1;33m         \u001b[1;32mraise\u001b[0m \u001b[0mexception_class\u001b[0m\u001b[1;33m(\u001b[0m\u001b[0mmessage\u001b[0m\u001b[1;33m,\u001b[0m \u001b[0mscreen\u001b[0m\u001b[1;33m,\u001b[0m \u001b[0mstacktrace\u001b[0m\u001b[1;33m)\u001b[0m\u001b[1;33m\u001b[0m\u001b[1;33m\u001b[0m\u001b[0m\n\u001b[0m\u001b[0;32m    243\u001b[0m \u001b[1;33m\u001b[0m\u001b[0m\n\u001b[0;32m    244\u001b[0m     \u001b[1;32mdef\u001b[0m \u001b[0m_value_or_default\u001b[0m\u001b[1;33m(\u001b[0m\u001b[0mself\u001b[0m\u001b[1;33m,\u001b[0m \u001b[0mobj\u001b[0m\u001b[1;33m,\u001b[0m \u001b[0mkey\u001b[0m\u001b[1;33m,\u001b[0m \u001b[0mdefault\u001b[0m\u001b[1;33m)\u001b[0m\u001b[1;33m:\u001b[0m\u001b[1;33m\u001b[0m\u001b[1;33m\u001b[0m\u001b[0m\n",
      "\u001b[1;31mStaleElementReferenceException\u001b[0m: Message: stale element reference: element is not attached to the page document\n  (Session info: chrome=85.0.4183.83)\n"
     ]
    }
   ],
   "source": [
    "%run parser.py"
   ]
  },
  {
   "cell_type": "code",
   "execution_count": 1,
   "metadata": {},
   "outputs": [],
   "source": [
    "from bs4 import BeautifulSoup as bs4\n",
    "import requests\n",
    "\n",
    "html = requests.get(\"http://www.saramin.co.kr/zf_user/jobs/relay/view?view_type=list&rec_idx=38750834\")"
   ]
  },
  {
   "cell_type": "code",
   "execution_count": 2,
   "metadata": {
    "scrolled": false
   },
   "outputs": [
    {
     "name": "stdout",
     "output_type": "stream",
     "text": [
      "<Response [200]>\n"
     ]
    }
   ],
   "source": [
    "print(html)"
   ]
  },
  {
   "cell_type": "code",
   "execution_count": 3,
   "metadata": {},
   "outputs": [],
   "source": [
    "soup = bs4(html.text, 'html.parser')"
   ]
  },
  {
   "cell_type": "code",
   "execution_count": 9,
   "metadata": {
    "scrolled": false
   },
   "outputs": [],
   "source": [
    "soup.select(\".pop_login_layer_close\")[0]."
   ]
  },
  {
   "cell_type": "code",
   "execution_count": null,
   "metadata": {},
   "outputs": [],
   "source": []
  }
 ],
 "metadata": {
  "kernelspec": {
   "display_name": "Python 3",
   "language": "python",
   "name": "python3"
  },
  "language_info": {
   "codemirror_mode": {
    "name": "ipython",
    "version": 3
   },
   "file_extension": ".py",
   "mimetype": "text/x-python",
   "name": "python",
   "nbconvert_exporter": "python",
   "pygments_lexer": "ipython3",
   "version": "3.8.5"
  }
 },
 "nbformat": 4,
 "nbformat_minor": 4
}
